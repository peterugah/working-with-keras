{
 "cells": [
  {
   "cell_type": "code",
   "execution_count": 1,
   "metadata": {},
   "outputs": [],
   "source": [
    "import tensorflow as tf\n",
    "from tensorflow import keras\n",
    "import matplotlib.pyplot as plt\n",
    "from tensorflow.keras.utils import to_categorical"
   ]
  },
  {
   "cell_type": "code",
   "execution_count": 2,
   "metadata": {},
   "outputs": [],
   "source": [
    "(train_images , train_labels), (test_images , test_labels) = keras.datasets.mnist.load_data()"
   ]
  },
  {
   "cell_type": "code",
   "execution_count": 3,
   "metadata": {},
   "outputs": [],
   "source": [
    "train_images = train_images.astype(\"float32\")\n",
    "test_images = test_images.astype(\"float32\")"
   ]
  },
  {
   "cell_type": "code",
   "execution_count": 4,
   "metadata": {},
   "outputs": [],
   "source": [
    "train_images /= 255.0\n",
    "test_images /=255.0"
   ]
  },
  {
   "cell_type": "code",
   "execution_count": 5,
   "metadata": {},
   "outputs": [],
   "source": [
    "#define image varaibles for 4d convnet \n",
    "train_len , train_row , train_col = train_images.shape[0] , train_images[0].shape[0] , train_images[0].shape[1]\n",
    "test_len , test_row , test_col  = test_images.shape[0] , test_images[0].shape[0] , test_images[0].shape[1]\n",
    "depth = 1 #since image is grayscale /this is also called number of channels\n",
    "image_shape_for_one_image = (train_row , train_col , depth) #can use the same for both train and test since they are of the same dimention\n"
   ]
  },
  {
   "cell_type": "code",
   "execution_count": 6,
   "metadata": {},
   "outputs": [],
   "source": [
    "#reshape the train and test images to a 4d tensor for input to the convnet\n",
    "train_images = train_images.reshape(train_len , train_row , train_col , depth)\n",
    "test_images = test_images.reshape(test_len , test_row , test_col , depth)"
   ]
  },
  {
   "cell_type": "code",
   "execution_count": 7,
   "metadata": {},
   "outputs": [],
   "source": [
    "#one hot encode the labels \n",
    "\n",
    "num_of_classes = len(set(train_labels))\n",
    "train_labels_one_hot = to_categorical(train_labels , num_of_classes)\n",
    "test_labels_one_hot = to_categorical(test_labels , num_of_classes)"
   ]
  },
  {
   "cell_type": "code",
   "execution_count": 8,
   "metadata": {},
   "outputs": [],
   "source": [
    "class history_loss(keras.callbacks.Callback):\n",
    "    def on_train_begin(self , logs ={}):\n",
    "        self.lossess = []\n",
    "    def on_batch_end(self , batch , logs):\n",
    "        self.lossess.append(logs.get(\"loss\"))\n",
    "#         print(self.lossess)\n",
    "\n",
    "loss = history_loss()"
   ]
  },
  {
   "cell_type": "code",
   "execution_count": 9,
   "metadata": {},
   "outputs": [],
   "source": [
    "#build model\n",
    "model = keras.Sequential([\n",
    "    keras.layers.Conv2D(32 , (3,3) , activation=\"relu\" , input_shape=image_shape_for_one_image),\n",
    "    keras.layers.Conv2D(64 , (3,3) , activation=\"relu\"),\n",
    "    keras.layers.Conv2D(128 , (3,3) , activation=\"relu\"),\n",
    "    keras.layers.Dropout(0.5),\n",
    "    keras.layers.Flatten(),\n",
    "    keras.layers.Dense(128 , activation=\"relu\"),\n",
    "    keras.layers.Dropout(0.5),\n",
    "    keras.layers.Dense(10 , activation=\"softmax\")\n",
    "])"
   ]
  },
  {
   "cell_type": "code",
   "execution_count": 10,
   "metadata": {},
   "outputs": [],
   "source": [
    "model.compile(optimizer=\"adam\" , loss=\"categorical_crossentropy\" , metrics=[\"accuracy\"])"
   ]
  },
  {
   "cell_type": "code",
   "execution_count": 11,
   "metadata": {},
   "outputs": [],
   "source": [
    "#define some hyperparamenters\n",
    "batch_size = 128\n",
    "epochs = 5"
   ]
  },
  {
   "cell_type": "code",
   "execution_count": 12,
   "metadata": {},
   "outputs": [
    {
     "name": "stdout",
     "output_type": "stream",
     "text": [
      "Epoch 1/5\n",
      "60000/60000 [==============================] - 375s 6ms/step - loss: 0.1920 - acc: 0.9419\n",
      "Epoch 2/5\n",
      "60000/60000 [==============================] - 373s 6ms/step - loss: 0.0716 - acc: 0.9790\n",
      "Epoch 3/5\n",
      "60000/60000 [==============================] - 356s 6ms/step - loss: 0.0543 - acc: 0.9837\n",
      "Epoch 4/5\n",
      "60000/60000 [==============================] - 351s 6ms/step - loss: 0.0430 - acc: 0.9863\n",
      "Epoch 5/5\n",
      "60000/60000 [==============================] - 358s 6ms/step - loss: 0.0376 - acc: 0.9890\n",
      "took 1813.402723312378 seconds to train\n"
     ]
    }
   ],
   "source": [
    "import time\n",
    "start = time.time()\n",
    "model.fit(train_images , train_labels_one_hot , batch_size=batch_size , epochs=epochs , callbacks=[loss])\n",
    "total_time = time.time() - start\n",
    "print(\"took {} seconds to train\".format(total_time))"
   ]
  },
  {
   "cell_type": "code",
   "execution_count": 22,
   "metadata": {},
   "outputs": [],
   "source": [
    "model.save(\"/home/peter/Desktop/deep-learning/models/cnn_mnist_model.h5\" , overwrite=True)"
   ]
  },
  {
   "cell_type": "code",
   "execution_count": 66,
   "metadata": {},
   "outputs": [],
   "source": [
    "def plot_loss(losses):\n",
    "    x = np.array(np.arange((len(losses))))\n",
    "    y = losses\n",
    "    plt.plot(x , y)\n",
    "    plt.xlabel(\"number of epochs\")\n",
    "    plt.ylabel(\"losses\")\n",
    "    plt.title(\"epoch loss plot\")"
   ]
  },
  {
   "cell_type": "code",
   "execution_count": 146,
   "metadata": {},
   "outputs": [
    {
     "data": {
      "image/png": "[encoded data removed]",
      "text/plain": [
       "<Figure size 432x288 with 1 Axes>"
      ]
     },
     "metadata": {
      "needs_background": "light"
     },
     "output_type": "display_data"
    }
   ],
   "source": [
    "plot_loss(loss.lossess)"
   ]
  },
  {
   "cell_type": "code",
   "execution_count": 149,
   "metadata": {},
   "outputs": [
    {
     "name": "stdout",
     "output_type": "stream",
     "text": [
      "10000/10000 [==============================] - 16s 2ms/step\n",
      "accuracy is  99.22 %\n"
     ]
    }
   ],
   "source": [
    "#evalute the model\n",
    "loss , acc = model.evaluate(test_images , test_labels_one_hot)\n",
    "print(\"accuracy is \" , acc * 100 , \"%\")"
   ]
  },
  {
   "cell_type": "code",
   "execution_count": 75,
   "metadata": {},
   "outputs": [],
   "source": [
    "#make predictions with saved model\n",
    "# model = keras.models.load_model(\"/home/peter/Desktop/deep-learning/models/cnn_mnist_model.h5\")\n",
    "predictions = model.predict(test_images)"
   ]
  },
  {
   "cell_type": "code",
   "execution_count": 81,
   "metadata": {},
   "outputs": [],
   "source": [
    "maxpred = np.argmax(predictions , axis=1)"
   ]
  },
  {
   "cell_type": "code",
   "execution_count": 145,
   "metadata": {},
   "outputs": [
    {
     "data": {
      "image/png": "[encoded data removed]",
      "text/plain": [
       "<Figure size 1296x1296 with 10 Axes>"
      ]
     },
     "metadata": {},
     "output_type": "display_data"
    }
   ],
   "source": [
    "#show actual and predicted\n",
    "all_images = test_images.reshape(-1 , 28, 28)\n",
    "plt.figure(figsize=(18,18))\n",
    "for i in  range(10):\n",
    "    plt.subplot(1 , 10 , i +1)\n",
    "    plt.imshow(all_images[i] , cmap=\"gray\")\n",
    "    plt.xticks([])\n",
    "    plt.yticks([])\n",
    "    pred = maxpred[i]\n",
    "    actual  = test_labels[i]\n",
    "    if pred == actual:\n",
    "        plt.xlabel(\"actual : {} , pred : {}\".format(actual , pred))\n",
    "    else :\n",
    "        plt.xlabel(\"actual : {} , pred : {}\".format(actual , pred) , color=\"red\")\n",
    "plt.show()"
   ]
  },
  {
   "cell_type": "code",
   "execution_count": 142,
   "metadata": {},
   "outputs": [
    {
     "data": {
      "image/png": "[encoded data removed]",
      "text/plain": [
       "<Figure size 86.4x86.4 with 1 Axes>"
      ]
     },
     "metadata": {},
     "output_type": "display_data"
    },
    {
     "data": {
      "image/png": "[encoded data removed]",
      "text/plain": [
       "<Figure size 86.4x86.4 with 1 Axes>"
      ]
     },
     "metadata": {},
     "output_type": "display_data"
    },
    {
     "data": {
      "image/png": "[encoded data removed]",
      "text/plain": [
       "<Figure size 86.4x86.4 with 1 Axes>"
      ]
     },
     "metadata": {},
     "output_type": "display_data"
    },
    {
     "data": {
      "image/png": "[encoded data removed]",
      "text/plain": [
       "<Figure size 86.4x86.4 with 1 Axes>"
      ]
     },
     "metadata": {},
     "output_type": "display_data"
    },
    {
     "data": {
      "image/png": "[encoded data removed]",
      "text/plain": [
       "<Figure size 86.4x86.4 with 1 Axes>"
      ]
     },
     "metadata": {},
     "output_type": "display_data"
    },
    {
     "data": {
      "image/png": "[encoded data removed]",
      "text/plain": [
       "<Figure size 86.4x86.4 with 1 Axes>"
      ]
     },
     "metadata": {},
     "output_type": "display_data"
    },
    {
     "data": {
      "image/png": "[encoded data removed]",
      "text/plain": [
       "<Figure size 86.4x86.4 with 1 Axes>"
      ]
     },
     "metadata": {},
     "output_type": "display_data"
    },
    {
     "data": {
      "image/png": "[encoded data removed]",
      "text/plain": [
       "<Figure size 86.4x86.4 with 1 Axes>"
      ]
     },
     "metadata": {},
     "output_type": "display_data"
    },
    {
     "data": {
      "image/png": "[encoded data removed]",
      "text/plain": [
       "<Figure size 86.4x86.4 with 1 Axes>"
      ]
     },
     "metadata": {},
     "output_type": "display_data"
    },
    {
     "data": {
      "image/png": "[encoded data removed]",
      "text/plain": [
       "<Figure size 86.4x86.4 with 1 Axes>"
      ]
     },
     "metadata": {},
     "output_type": "display_data"
    }
   ],
   "source": [
    "#show wrong predictions\n",
    "limit = 10\n",
    "counter = 0\n",
    "length  = len(maxpred)\n",
    "for i in range(length):\n",
    "    pred = maxpred[i]\n",
    "    actual = test_labels[i]\n",
    "    \n",
    "    if(counter == limit):\n",
    "        break\n",
    "    if pred != actual:\n",
    "        counter += 1\n",
    "        plt.figure(figsize=(1.2,1.2))\n",
    "        plt.imshow(all_images[i] , cmap=\"gray\")\n",
    "        plt.xticks([])\n",
    "        plt.yticks([])\n",
    "        plt.xlabel(\"actual : {}  pred : {}\".format(test_labels[i] , maxpred[i]) , fontsize=12 , color=\"red\")\n",
    "        plt.show()"
   ]
  }
 ],
 "metadata": {
  "kernelspec": {
   "display_name": "Python 3",
   "language": "python",
   "name": "python3"
  },
  "language_info": {
   "codemirror_mode": {
    "name": "ipython",
    "version": 3
   },
   "file_extension": ".py",
   "mimetype": "text/x-python",
   "name": "python",
   "nbconvert_exporter": "python",
   "pygments_lexer": "ipython3",
   "version": "3.6.7"
  }
 },
 "nbformat": 4,
 "nbformat_minor": 2
}
